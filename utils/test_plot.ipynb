{
 "cells": [
  {
   "cell_type": "code",
   "execution_count": 1,
   "id": "c0db627c",
   "metadata": {},
   "outputs": [],
   "source": [
    "import pandas as pd\n",
    "import numpy as np\n",
    "from plot import plot_probs_acumul\n",
    "from data_treat import carregar_pacientes_csv\n",
    "import probs "
   ]
  },
  {
   "cell_type": "code",
   "execution_count": 2,
   "id": "7bed991f",
   "metadata": {},
   "outputs": [
    {
     "name": "stdout",
     "output_type": "stream",
     "text": [
      "Ocorreu um erro ao ler o arquivo: 'DictReader' object is not subscriptable\n"
     ]
    }
   ],
   "source": [
    "# data = pd.read_csv('../files/data/probabilidades.csv')\n",
    "# dicio = pd.read_excel('../files/data/dicionario.xlsx')\n",
    "# print(dicio.columns)\n",
    "# result = probs.previsao_convolucao(data[['prediction_prob_alta', 'prediction_prob_ui','prediction_prob_uti']][:n].values)\n",
    "\n",
    "\n",
    "# plot_probs_acumul(result)\n",
    "n = 20\n",
    "pacientes = carregar_pacientes_csv('../files/data/dados_ficticios.csv', num_pacientes=10)\n",
    "\n"
   ]
  }
 ],
 "metadata": {
  "kernelspec": {
   "display_name": ".FGV_env",
   "language": "python",
   "name": "python3"
  },
  "language_info": {
   "codemirror_mode": {
    "name": "ipython",
    "version": 3
   },
   "file_extension": ".py",
   "mimetype": "text/x-python",
   "name": "python",
   "nbconvert_exporter": "python",
   "pygments_lexer": "ipython3",
   "version": "3.13.0"
  }
 },
 "nbformat": 4,
 "nbformat_minor": 5
}
