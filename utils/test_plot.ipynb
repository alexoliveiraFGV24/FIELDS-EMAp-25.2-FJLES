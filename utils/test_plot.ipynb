{
 "cells": [
  {
   "cell_type": "code",
   "execution_count": 1,
   "id": "c0db627c",
   "metadata": {},
   "outputs": [],
   "source": [
    "import pandas as pd\n",
    "import numpy as np\n",
    "import plot\n",
    "import probs \n"
   ]
  },
  {
   "cell_type": "code",
   "execution_count": 5,
   "id": "7bed991f",
   "metadata": {},
   "outputs": [
    {
     "name": "stdout",
     "output_type": "stream",
     "text": [
      "               Nome da coluna  \\\n",
      "0       TA_DH_PRE_ATENDIMENTO   \n",
      "1          TA_DS_MEDICAMENTOS   \n",
      "2         TA_TP_CLASSIFICACAO   \n",
      "3   TA_DS_OBSERVACAO_REMOVIDO   \n",
      "4       TA_CD_CIDADE_PACIENTE   \n",
      "..                        ...   \n",
      "85          CSV_FR_APARELHO_4   \n",
      "86           CSV_PERF_PERIF_4   \n",
      "87           CSV_TEMP_MANTA_4   \n",
      "88                  CSV_PAM_4   \n",
      "89               CSV_SAT_O2_4   \n",
      "\n",
      "                                          Significado              Etapa  \\\n",
      "0   Data e hora do pré-atendimento (Classificação ...  Abordagem inicial   \n",
      "1   Medicamentos em uso ou administrados na triage...  Abordagem inicial   \n",
      "2   Sinalização do sistema de que classificação de...  Abordagem inicial   \n",
      "3   Justificativa registrada no momento em que a s...  Abordagem inicial   \n",
      "4   Código da cidade de residência do paciente (Cl...  Abordagem inicial   \n",
      "..                                                ...                ...   \n",
      "85  Valor aferido de frequência respiratória do ap...  Abordagem inicial   \n",
      "86  Valor aferido de perfusão periférica (4ª aferi...  Abordagem inicial   \n",
      "87  Valor aferido de temperatura da manta (4ª afer...  Abordagem inicial   \n",
      "88  Valor aferido de pressão arterial média (4ª af...  Abordagem inicial   \n",
      "89  Valor aferido de saturação em oxigênio (4ª afe...  Abordagem inicial   \n",
      "\n",
      "           Tipo Observação  \n",
      "0     Data/Hora        NaN  \n",
      "1   Texto livre        NaN  \n",
      "2    Categórico        NaN  \n",
      "3   Texto livre        NaN  \n",
      "4    Categórico        NaN  \n",
      "..          ...        ...  \n",
      "85     Numérico        NaN  \n",
      "86     Numérico        NaN  \n",
      "87     Numérico        NaN  \n",
      "88     Numérico        NaN  \n",
      "89     Numérico        NaN  \n",
      "\n",
      "[90 rows x 5 columns]\n"
     ]
    }
   ],
   "source": [
    "data = pd.read_csv('../files/data/probabilidades.csv')\n",
    "dicio = pd.read_excel('../files/data/dicionario.xlsx')\n",
    "print(dicio[dicio['Etapa'] == 'Abordagem inicial' ])\n",
    "n = 20\n",
    "# result = probs.previsao_convolucao(data[['prediction_prob_alta', 'prediction_prob_ui','prediction_prob_uti']][:n].values)\n",
    "\n",
    "# plot.plot_probs_acumul(result)\n"
   ]
  }
 ],
 "metadata": {
  "kernelspec": {
   "display_name": ".FGV_env",
   "language": "python",
   "name": "python3"
  },
  "language_info": {
   "codemirror_mode": {
    "name": "ipython",
    "version": 3
   },
   "file_extension": ".py",
   "mimetype": "text/x-python",
   "name": "python",
   "nbconvert_exporter": "python",
   "pygments_lexer": "ipython3",
   "version": "3.13.0"
  }
 },
 "nbformat": 4,
 "nbformat_minor": 5
}
